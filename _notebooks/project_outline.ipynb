{
 "cells": [
  {
   "cell_type": "markdown",
   "metadata": {},
   "source": [
    "# A Tailored Recommender System Project"
   ]
  },
  {
   "cell_type": "markdown",
   "metadata": {},
   "source": [
    "## Abstract\n",
    "\n",
    "The whole scope of this project is to build a recommender system that users can configure in many different ways. This allows people to control their discovery experience. The initial application is within the domain of music recommendation (track, artist, and album), but could be extended to many different domains. The idea is based on the belief that people want more say in what music is recommended to them, and they want to control how obscure the recommendations are and how they come to them. \n",
    "\n",
    "Additionally, this is a fun way for me to work with many different kinds of recommendations schemes when it comes to music. For example, users can choose where the data comes from for their content-based recommendations, or they can add varying levels of obscurity. Since I'm not planning on requesting users provide information about their preferences this is largely going to use content-based recommenders. But a later iteration could have more ratings/preference based recommendations by asking users to share their favorite playlists or something.\n",
    "\n",
    "My vision is that there is a web interface where people will put the seed to generate a playlist of recommended songs. If the user inputs a track, return a playlist of similar/recommended tracks. If it's an album or artist, return a sampling of songs from similar/recommended albums or artists. Furthermore, the user will be able to tweak various aspects of how their Tailored Playlist--trademark pending--is generated. "
   ]
  },
  {
   "cell_type": "markdown",
   "metadata": {},
   "source": [
    "## Prototype\n",
    "\n",
    "I'm going to create a quick prototype of the project that'll use the Spotify Web API for creating recommendations. As my project would, users will be allowed tweak the way in which similar tracks are weighted--a similar concept to [Nelson](https://nelson.glitch.me/#). My end goal is to have everything working on a recommendation engine built by me, which admittedly may not perform as well as the Spotify API (given the scale of data and resources they have access to) but will allow user testing and comparison and fulfill my own interest. Building a prototype, however, will provide me a concrete idea to work towards and give me something to show people and draw interest/feedback for the interface. For now it can just live as a notebook that fetches recommendations using the python api-client spotipy (clever). I also just \"forked\" Nelson so I don't have to start from scratch, then we'll have a nice glitch app to show people.\n",
    "\n",
    "I like this [Tuneful](www.tuneful.app) interface, and the guys idea to retrieve explicit ratings on songs very quickly and in large batches. Interesting to see if people are engaged enough to do this for many tracks at a time. It could be something to imitate or even build on top of if I can reach out.\n",
    "\n",
    "---\n",
    "\n",
    "Some functions I want to have:\n",
    "- Set weights on certain features (a lá Nelson)\n",
    "- Change level of obscurity of recommendations\n",
    "- Be able to listen to top 10 recommended tracks in web app\n",
    "- Be able to save the entire list of recommended tracks in a playlist"
   ]
  },
  {
   "cell_type": "markdown",
   "metadata": {},
   "source": [
    "## Pitchfork Review Recommender\n",
    "\n",
    "My first foray into the project was with a simple content-based recommender that used a dataset of Pitchfork album reviews and NLP techniques to measure the similarity of albums and return a list of the top 5 most similar albums for a given one. \n",
    "\n",
    "A deeper look at this system can be found [here](pitchfork_review_rec.ipynb)."
   ]
  },
  {
   "cell_type": "markdown",
   "metadata": {},
   "source": [
    "## Echonest Recommender\n",
    "\n",
    "The FMA dataset is an awesome open-source dataset that provides a whole bunch of track data and metadata on a whole range of levels. Additionally, there is deep feature data from Echonest which was later acquired by Spotify. "
   ]
  }
 ],
 "metadata": {
  "kernelspec": {
   "display_name": "Python 3",
   "language": "python",
   "name": "python3"
  },
  "language_info": {
   "codemirror_mode": {
    "name": "ipython",
    "version": 3
   },
   "file_extension": ".py",
   "mimetype": "text/x-python",
   "name": "python",
   "nbconvert_exporter": "python",
   "pygments_lexer": "ipython3",
   "version": "3.7.3"
  }
 },
 "nbformat": 4,
 "nbformat_minor": 2
}
