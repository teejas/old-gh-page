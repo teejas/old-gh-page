{
 "cells": [
  {
   "cell_type": "markdown",
   "metadata": {},
   "source": [
    "## Introduction\n",
    "\n",
    "Using this [dataset](https://components.one/datasets/pitchfork-reviews-dataset/) we'll build a recommendation system which returns the top 5 albums most similar to the given one. This borrows from [a tutorial](https://towardsdatascience.com/how-to-build-from-scratch-a-content-based-movie-recommender-with-natural-language-processing-25ad400eb243) which aims to build a movie content-based recommendation system using NLP methods."
   ]
  },
  {
   "cell_type": "markdown",
   "metadata": {
    "colab_type": "text",
    "id": "n3KmbMF-3dOl"
   },
   "source": [
    "## Setup\n",
    "First, let's make sure we're in the correct working directory and have all the necessary packages imported.\n",
    "We'll also read in the dataset--it's been cleaned beforehand on my local machine; a simple process to get it into a csv rather than the SQLLite db I had downloaded.\n",
    "Finally, we'll set a flag to indicate which vectorizer we are using in the interest of testing both and comparing (A/B testing).\n"
   ]
  },
  {
   "cell_type": "code",
   "execution_count": 15,
   "metadata": {
    "colab": {
     "base_uri": "https://localhost:8080/",
     "height": 51
    },
    "colab_type": "code",
    "executionInfo": {
     "elapsed": 2320,
     "status": "ok",
     "timestamp": 1593566523398,
     "user": {
      "displayName": "Tejas Siripurapu",
      "photoUrl": "https://lh5.googleusercontent.com/-zGBqxY2QvYA/AAAAAAAAAAI/AAAAAAAAChw/Vo7W1nfwMBU/s64/photo.jpg",
      "userId": "12304133152416668209"
     },
     "user_tz": 420
    },
    "id": "ohv0Zrl62YTx",
    "outputId": "b54bf737-bb1b-45e6-b63e-19bfade0110e"
   },
   "outputs": [
    {
     "name": "stdout",
     "output_type": "stream",
     "text": [
      "[Errno 2] No such file or directory: 'drive/My Drive/Colab Notebooks'\n",
      "/Users/tejassiripurapu/Google Drive/Colab Notebooks\n",
      "/Users/tejassiripurapu/Google Drive/Colab Notebooks\r\n"
     ]
    }
   ],
   "source": [
    "%cd \"drive/My Drive/Colab Notebooks\"\n",
    "!pwd"
   ]
  },
  {
   "cell_type": "code",
   "execution_count": 16,
   "metadata": {
    "colab": {},
    "colab_type": "code",
    "id": "NMGuGQ6h2wrk"
   },
   "outputs": [],
   "source": [
    "import pandas as pd\n",
    "import spotipy\n",
    "from spotipy.oauth2 import SpotifyClientCredentials\n",
    "from rake_nltk import Rake\n",
    "from sklearn.metrics.pairwise import cosine_similarity, euclidean_distances\n",
    "from sklearn.feature_extraction.text import CountVectorizer\n",
    "from sklearn.feature_extraction.text import TfidfVectorizer"
   ]
  },
  {
   "cell_type": "code",
   "execution_count": 17,
   "metadata": {
    "colab": {
     "base_uri": "https://localhost:8080/",
     "height": 153
    },
    "colab_type": "code",
    "executionInfo": {
     "elapsed": 6016,
     "status": "ok",
     "timestamp": 1593566527222,
     "user": {
      "displayName": "Tejas Siripurapu",
      "photoUrl": "https://lh5.googleusercontent.com/-zGBqxY2QvYA/AAAAAAAAAAI/AAAAAAAAChw/Vo7W1nfwMBU/s64/photo.jpg",
      "userId": "12304133152416668209"
     },
     "user_tz": 420
    },
    "id": "SYtqB-4y3Rey",
    "outputId": "b6bed765-e69c-4919-c1bc-bc3ffc1c4e37"
   },
   "outputs": [
    {
     "name": "stdout",
     "output_type": "stream",
     "text": [
      "             artist                                       album       genre  \\\n",
      "0       David Byrne  “…The Best Live Show of All Time” — NME EP        Rock   \n",
      "1         DJ Healer           Lost Lovesongs / Lostsongs Vol. 2  Electronic   \n",
      "2       Jorge Velez                                 Roman Birds  Electronic   \n",
      "3           Chandra                          Transportation EPs        Rock   \n",
      "4  The Chainsmokers                                    Sick Boy  Electronic   \n",
      "\n",
      "   score             author                                             review  \n",
      "0    5.5          Andy Beta  Viva Brother, Terris, Mansun, the Twang, Joe L...  \n",
      "1    6.2        Chal Ravens  The Prince of Denmark—that is, the proper prin...  \n",
      "2    7.9   Philip Sherburne  Jorge Velez has long been prolific, but that’s...  \n",
      "3    7.8          Andy Beta  When the Avalanches returned in 2016 after an ...  \n",
      "4    3.1  Larry Fitzmaurice  We’re going to be stuck with the Chainsmokers ...  \n"
     ]
    }
   ],
   "source": [
    "df = pd.read_csv(\"data/pitchfork_reviews_cleaned.csv\")\n",
    "print(df.head())\n",
    "\n",
    "tfidf = True # if True: use TfidfVectorizer, else: CountVectorizer\n",
    "if tfidf:\n",
    "    print(\"USING TFIDF-VECTORIZER\")\n",
    "else:\n",
    "    print(\"USING COUNT-VECTORIZER\")"
   ]
  },
  {
   "cell_type": "markdown",
   "metadata": {
    "colab_type": "text",
    "id": "_iAeGdRf3vkD"
   },
   "source": [
    "## A Little Preprocessing\n",
    "Now that our data is loaded into a dataframe, let's separate out the written review and use the album title as the index.\n",
    "\n",
    "NOTE: The set we're working with may be too big to handle atm (session is crashing when trying to vectorize). Randomly sample 8000 reviews to begin with."
   ]
  },
  {
   "cell_type": "code",
   "execution_count": 18,
   "metadata": {
    "colab": {
     "base_uri": "https://localhost:8080/",
     "height": 187
    },
    "colab_type": "code",
    "executionInfo": {
     "elapsed": 6009,
     "status": "ok",
     "timestamp": 1593566527229,
     "user": {
      "displayName": "Tejas Siripurapu",
      "photoUrl": "https://lh5.googleusercontent.com/-zGBqxY2QvYA/AAAAAAAAAAI/AAAAAAAAChw/Vo7W1nfwMBU/s64/photo.jpg",
      "userId": "12304133152416668209"
     },
     "user_tz": 420
    },
    "id": "wgxjupfh9Z_7",
    "outputId": "8c757796-1c2e-4d16-b51b-e4a5f38cd537"
   },
   "outputs": [
    {
     "name": "stdout",
     "output_type": "stream",
     "text": [
      "             artist                                       album  \\\n",
      "0       David Byrne  “…The Best Live Show of All Time” — NME EP   \n",
      "1         DJ Healer           Lost Lovesongs / Lostsongs Vol. 2   \n",
      "2       Jorge Velez                                 Roman Birds   \n",
      "3           Chandra                          Transportation EPs   \n",
      "4  The Chainsmokers                                    Sick Boy   \n",
      "\n",
      "                                              review  \n",
      "0  Viva Brother, Terris, Mansun, the Twang, Joe L...  \n",
      "1  The Prince of Denmark—that is, the proper prin...  \n",
      "2  Jorge Velez has long been prolific, but that’s...  \n",
      "3  When the Avalanches returned in 2016 after an ...  \n",
      "4  We’re going to be stuck with the Chainsmokers ...  \n",
      "20873\n",
      "20867\n"
     ]
    }
   ],
   "source": [
    "working_df = df[['artist', 'album', 'review']].copy()\n",
    "# working_df.set_index('album', inplace=True)\n",
    "print(working_df.head())\n",
    "print(len(working_df))\n",
    "working_df.dropna(inplace=True, how='any')\n",
    "print(len(working_df)) # How many na rows were there? 5 (which ones?)\n",
    "sample_df = working_df.sample(8000)"
   ]
  },
  {
   "cell_type": "markdown",
   "metadata": {
    "colab_type": "text",
    "id": "tO_fWaG-818E"
   },
   "source": [
    "## Keyword Extraction\n",
    "\n",
    "Use the nltk Rake function (from rake-nltk Python package) to extract important keywords from the reviews. This improves the vectorization by removing punctuation and allows for larger batch size by decreasing size of corpus and individual docs (reviews). \n",
    "\n",
    "Furthermore, as a new Rake object is instantiated for every row in the dataframe, I've added the artist name as a stopword when extracting keywords for any given review of an artist. This is because the artist name is likely used frequently in a review of their music, so our similarity scores (and therefore recommendations) will be skewed towards albums by that artist. We want more variety to the recommendation, a user has likely already heard of other albums by the same artist--or can simply Google it. "
   ]
  },
  {
   "cell_type": "code",
   "execution_count": 19,
   "metadata": {
    "colab": {},
    "colab_type": "code",
    "id": "6ySIqwvF80ZJ"
   },
   "outputs": [],
   "source": [
    "artists = sample_df['artist']\n",
    "\n",
    "sample_df['keywords'] = \"\"\n",
    "\n",
    "for idx, row in sample_df.iterrows():\n",
    "  r = Rake(stopwords=artists[idx])\n",
    "  r.extract_keywords_from_text(row['review'])\n",
    "  keywords = list(r.get_word_degrees().keys())\n",
    "  row['keywords'] = \" \".join(keywords)\n",
    "\n",
    "corpus = sample_df['keywords']"
   ]
  },
  {
   "cell_type": "markdown",
   "metadata": {
    "colab_type": "text",
    "id": "0wa9wGZW6cCk"
   },
   "source": [
    "## Vectorization\n",
    "The working dataframe is set up containing album titles (as index) and the full written review. We're going to vectorize that review column using Tfidf. This will give us a vector of word frequencies across the whole corpus. Think of this as mapping every review onto an n-dimensional space, where n is the number of distinct words in the corpus. Then we can measure similarity between the vectors using cosine similarity.\n",
    "Admittedly, Tfidf is a little different as it measures frequency relative to how often that word appears in different documents, but this is a good way to conceptualize.\n"
   ]
  },
  {
   "cell_type": "code",
   "execution_count": 20,
   "metadata": {
    "colab": {
     "base_uri": "https://localhost:8080/",
     "height": 34
    },
    "colab_type": "code",
    "executionInfo": {
     "elapsed": 58773,
     "status": "ok",
     "timestamp": 1593566580152,
     "user": {
      "displayName": "Tejas Siripurapu",
      "photoUrl": "https://lh5.googleusercontent.com/-zGBqxY2QvYA/AAAAAAAAAAI/AAAAAAAAChw/Vo7W1nfwMBU/s64/photo.jpg",
      "userId": "12304133152416668209"
     },
     "user_tz": 420
    },
    "id": "01Cy9JrU7ECC",
    "outputId": "9adf9236-7ce7-4158-94b4-aae4275dde4b"
   },
   "outputs": [],
   "source": [
    "if tfidf:\n",
    "  tv = TfidfVectorizer()\n",
    "  tv_counts = tv.fit_transform(corpus)\n",
    "  # tv_counts = tv.transform(df['review'])\n",
    "  tv_counts = tv_counts.toarray()\n",
    "  print(len(tv_counts[0])) # How many words are being counted?"
   ]
  },
  {
   "cell_type": "code",
   "execution_count": 21,
   "metadata": {
    "colab": {},
    "colab_type": "code",
    "id": "LokVVZfJHPOx"
   },
   "outputs": [
    {
     "name": "stdout",
     "output_type": "stream",
     "text": [
      "88560\n"
     ]
    }
   ],
   "source": [
    "if not tfidf:\n",
    "    cv = CountVectorizer()\n",
    "    cv_counts = cv.fit_transform(corpus)\n",
    "    cv_counts = cv_counts.toarray()\n",
    "    print(len(cv_counts[0]))"
   ]
  },
  {
   "cell_type": "code",
   "execution_count": 22,
   "metadata": {
    "colab": {
     "base_uri": "https://localhost:8080/",
     "height": 170
    },
    "colab_type": "code",
    "executionInfo": {
     "elapsed": 637,
     "status": "ok",
     "timestamp": 1593566632759,
     "user": {
      "displayName": "Tejas Siripurapu",
      "photoUrl": "https://lh5.googleusercontent.com/-zGBqxY2QvYA/AAAAAAAAAAI/AAAAAAAAChw/Vo7W1nfwMBU/s64/photo.jpg",
      "userId": "12304133152416668209"
     },
     "user_tz": 420
    },
    "id": "aSuQmDZG73U9",
    "outputId": "5247511e-0f16-49b4-a8f1-e0da299292a6"
   },
   "outputs": [
    {
     "name": "stdout",
     "output_type": "stream",
     "text": [
      "                            word0  word1  word2  word3  word4  word5  word6  \\\n",
      "album                                                                         \n",
      "We the Best                   0.0    0.0    0.0    0.0    0.0    0.0    0.0   \n",
      "Child Ballads                 0.0    0.0    0.0    0.0    0.0    0.0    0.0   \n",
      "An Optimist Notes the Dusk    0.0    0.0    0.0    0.0    0.0    0.0    0.0   \n",
      "Floating World                0.0    0.0    0.0    0.0    0.0    0.0    0.0   \n",
      "T.I. vs. T.I.P.               0.0    0.0    0.0    0.0    0.0    0.0    0.0   \n",
      "\n",
      "                            word7  word8  word9  ...  word88809  word88810  \\\n",
      "album                                            ...                         \n",
      "We the Best                   0.0    0.0    0.0  ...        0.0        0.0   \n",
      "Child Ballads                 0.0    0.0    0.0  ...        0.0        0.0   \n",
      "An Optimist Notes the Dusk    0.0    0.0    0.0  ...        0.0        0.0   \n",
      "Floating World                0.0    0.0    0.0  ...        0.0        0.0   \n",
      "T.I. vs. T.I.P.               0.0    0.0    0.0  ...        0.0        0.0   \n",
      "\n",
      "                            word88811  word88812  word88813  word88814  \\\n",
      "album                                                                    \n",
      "We the Best                       0.0        0.0        0.0        0.0   \n",
      "Child Ballads                     0.0        0.0        0.0        0.0   \n",
      "An Optimist Notes the Dusk        0.0        0.0        0.0        0.0   \n",
      "Floating World                    0.0        0.0        0.0        0.0   \n",
      "T.I. vs. T.I.P.                   0.0        0.0        0.0        0.0   \n",
      "\n",
      "                            word88815  word88816  word88817  word88818  \n",
      "album                                                                   \n",
      "We the Best                       0.0        0.0        0.0        0.0  \n",
      "Child Ballads                     0.0        0.0        0.0        0.0  \n",
      "An Optimist Notes the Dusk        0.0        0.0        0.0        0.0  \n",
      "Floating World                    0.0        0.0        0.0        0.0  \n",
      "T.I. vs. T.I.P.                   0.0        0.0        0.0        0.0  \n",
      "\n",
      "[5 rows x 88819 columns]\n"
     ]
    }
   ],
   "source": [
    "labels = []\n",
    "albums = sample_df['album']\n",
    "for i in range(len(tv_counts[0])):\n",
    "  labels.append(\"word\" + str(i))\n",
    "counts_df = pd.DataFrame(tv_counts, columns=labels, index=albums)\n",
    "print(counts_df.head())"
   ]
  },
  {
   "cell_type": "markdown",
   "metadata": {
    "colab_type": "text",
    "id": "vFAo5IRB_PRz"
   },
   "source": [
    "## (Cosine) Similarity \n",
    "Now we have a dataframe containing the word frequencies and we can compare each album using cosine similarity. Doing this in a pairwise manner (across every row in the dataframe) allows us to measure the similarity between two albums based on their review."
   ]
  },
  {
   "cell_type": "code",
   "execution_count": 23,
   "metadata": {
    "colab": {
     "base_uri": "https://localhost:8080/",
     "height": 102
    },
    "colab_type": "code",
    "executionInfo": {
     "elapsed": 181173,
     "status": "ok",
     "timestamp": 1593566817550,
     "user": {
      "displayName": "Tejas Siripurapu",
      "photoUrl": "https://lh5.googleusercontent.com/-zGBqxY2QvYA/AAAAAAAAAAI/AAAAAAAAChw/Vo7W1nfwMBU/s64/photo.jpg",
      "userId": "12304133152416668209"
     },
     "user_tz": 420
    },
    "id": "Yidyf09T_o9G",
    "outputId": "9344b493-8ed3-4a6a-f8c3-9c890fefb50c"
   },
   "outputs": [
    {
     "name": "stdout",
     "output_type": "stream",
     "text": [
      "[[1.         0.05163391 0.07008805 ... 0.05995359 0.05392151 0.05443682]\n",
      " [0.05163391 1.         0.04531815 ... 0.0498001  0.04011863 0.0562401 ]\n",
      " [0.07008805 0.04531815 1.         ... 0.06610989 0.06276235 0.04078744]\n",
      " [0.03617608 0.03489158 0.04751916 ... 0.03875215 0.0355261  0.0291096 ]\n",
      " [0.0468151  0.03875305 0.0521827  ... 0.05072077 0.04770401 0.0409124 ]]\n"
     ]
    }
   ],
   "source": [
    "similarity = cosine_similarity(counts_df)\n",
    "print(similarity[:5])"
   ]
  },
  {
   "cell_type": "markdown",
   "metadata": {
    "colab_type": "text",
    "id": "pUcJ116d-AyD"
   },
   "source": [
    "God bless, everything ran and nothing has crashed yet (hopefully). Now let's make sense of the similarity matrix. Each album gets a row in the matrix (i.e. album[0] has a corresponding vector at similarity[0]).\n"
   ]
  },
  {
   "cell_type": "markdown",
   "metadata": {
    "colab_type": "text",
    "id": "PVj-q6JSAu3X"
   },
   "source": [
    "## Recommendation and User Testing\n",
    "Every value in the album vector represents how similar that album is with another. So for album[i], there is a corresponding album vector such that the value at index j in that vector is showing how similar album[i] is with album[j]. If i == j we should see a value of 1, meaning that the two albums are exactly alike (as they should be, it's the same album).\n",
    "\n",
    "So to find recommendations for a given album, sort the corresponding similarity vector (while maintaining the index). Using the index of the highest value which isn't 1 will reference the album most similar to the given album based on the written Pitchfork review.\n",
    "\n",
    "The process to recommend is as follows: Given an input album title -> get review corresponding to album, vectorize using Tfidf, measure similarity against sample, return top 5 (or 10?) most similar albums."
   ]
  },
  {
   "cell_type": "code",
   "execution_count": 24,
   "metadata": {
    "colab": {},
    "colab_type": "code",
    "id": "RGymzAPTHqLn"
   },
   "outputs": [],
   "source": [
    "working_df.set_index('album', inplace=True) "
   ]
  },
  {
   "cell_type": "code",
   "execution_count": 25,
   "metadata": {
    "colab": {
     "base_uri": "https://localhost:8080/",
     "height": 51
    },
    "colab_type": "code",
    "executionInfo": {
     "elapsed": 7294,
     "status": "ok",
     "timestamp": 1593567442484,
     "user": {
      "displayName": "Tejas Siripurapu",
      "photoUrl": "https://lh5.googleusercontent.com/-zGBqxY2QvYA/AAAAAAAAAAI/AAAAAAAAChw/Vo7W1nfwMBU/s64/photo.jpg",
      "userId": "12304133152416668209"
     },
     "user_tz": 420
    },
    "id": "X4SQ1Ap6CiNo",
    "outputId": "6a18d4ec-d2e1-4426-9610-ae116f6ce43d"
   },
   "outputs": [
    {
     "name": "stdout",
     "output_type": "stream",
     "text": [
      "88819\n",
      "[[0.07803562 0.05944719 0.09819942 ... 0.07605107 0.06006445 0.0644322 ]]\n"
     ]
    }
   ],
   "source": [
    "search_album = \"My Beautiful Dark Twisted Fantasy\"\n",
    "review = working_df.loc[search_album]['review']\n",
    "\n",
    "vec = tv.transform([review]).toarray()\n",
    "print(len(vec[0]))\n",
    "search_sim = cosine_similarity(vec, counts_df)\n",
    "print(search_sim)"
   ]
  },
  {
   "cell_type": "code",
   "execution_count": 26,
   "metadata": {
    "colab": {
     "base_uri": "https://localhost:8080/",
     "height": 102
    },
    "colab_type": "code",
    "executionInfo": {
     "elapsed": 6331,
     "status": "ok",
     "timestamp": 1593567442485,
     "user": {
      "displayName": "Tejas Siripurapu",
      "photoUrl": "https://lh5.googleusercontent.com/-zGBqxY2QvYA/AAAAAAAAAAI/AAAAAAAAChw/Vo7W1nfwMBU/s64/photo.jpg",
      "userId": "12304133152416668209"
     },
     "user_tz": 420
    },
    "id": "W8my1ZZKXeNK",
    "outputId": "e7c736b7-8e43-48a8-f3a7-125148211171"
   },
   "outputs": [
    {
     "name": "stdout",
     "output_type": "stream",
     "text": [
      "Sing Me a Song\n",
      "Sleep Like It’s Winter\n",
      "3 Feet High and Rising\n",
      "Speak for Yourself\n",
      "Chelsea Light Moving\n"
     ]
    }
   ],
   "source": [
    "search_df = pd.DataFrame(search_sim[0])\n",
    "top_5 = search_df.nlargest(5, 0)\n",
    "if albums.iloc[top_5.index[0]] == search_album:\n",
    "    top_5 = search_df.nlargest(6, 0)[1:6]\n",
    "# print(top_5.index)\n",
    "for idx in top_5.index:\n",
    "  # print(idx)\n",
    "  print(albums.iloc[idx])"
   ]
  },
  {
   "cell_type": "markdown",
   "metadata": {},
   "source": [
    "## Results\n",
    "\n",
    "One thing I wanted to test was the differences in recommendations using the TfidfVectorizer vs. the CountVectorizer. After some basic A/B testing, I found Tfidf to be superior, because the recommendations it gave just made more sense. Given a Kanye West album, I got a mix of albums by him and his label mates recommended back. This is likely because a single reviewer writes the reviews for that related group of artists. The CountVectorizer gave more novel, albeit seemingly random, recommendations that I'm not sure are sensible. I suppose it's up to the user which they prefer."
   ]
  },
  {
   "cell_type": "markdown",
   "metadata": {},
   "source": [
    "The state of the art recommendation engine I want to compare my results against is the Spotify engine, which I can easily query via their [web API](https://developer.spotify.com/documentation/web-api/reference/browse/get-recommendations/). Granted, it would be very difficult to create a recommendation engine that is on par with Spotify's due to the amount of data and compute resources they have at their disposal. I would wager that every minute Spotify collects more data on music preference than I would be able to source in a month. Furthermore, their recommender is likely a complex hybrid system that makes use of several models which are actively being trained with new data--however often they are updated. But I digress, the comparison of my recommendations to Spotify's are below. Also note that the recommendations I give are limited to the albums in this dataset, if I could find a way to similarly limit Spotify's recommendation pool I would do so."
   ]
  },
  {
   "cell_type": "code",
   "execution_count": null,
   "metadata": {},
   "outputs": [],
   "source": [
    "spotify = spotipy.Spotify(client_credentials_manager=SpotifyClientCredentials())\n"
   ]
  }
 ],
 "metadata": {
  "colab": {
   "collapsed_sections": [],
   "name": "pitchfork_review_rec.ipynb",
   "provenance": []
  },
  "kernelspec": {
   "display_name": "Python 3",
   "language": "python",
   "name": "python3"
  },
  "language_info": {
   "codemirror_mode": {
    "name": "ipython",
    "version": 3
   },
   "file_extension": ".py",
   "mimetype": "text/x-python",
   "name": "python",
   "nbconvert_exporter": "python",
   "pygments_lexer": "ipython3",
   "version": "3.7.3"
  }
 },
 "nbformat": 4,
 "nbformat_minor": 1
}
